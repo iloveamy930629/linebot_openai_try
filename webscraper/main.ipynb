{
 "cells": [
  {
   "cell_type": "code",
   "execution_count": 6,
   "metadata": {},
   "outputs": [
    {
     "name": "stdout",
     "output_type": "stream",
     "text": [
      "Data successfully saved to 'list.json'.\n"
     ]
    }
   ],
   "source": [
    "import requests\n",
    "from bs4 import BeautifulSoup\n",
    "import time\n",
    "import json\n",
    "\n",
    "import os\n",
    "\n",
    "headers = {\n",
    "    'User-Agent': 'Mozilla/5.0 (Windows NT 10.0; Win64; x64) AppleWebKit/537.36 (KHTML, like Gecko) Chrome/91.0.4472.124 Safari/537.36'\n",
    "}\n",
    "\n",
    "def get_all_links_and_titles(url):\n",
    "    retries = 3\n",
    "    for attempt in range(retries):\n",
    "        try:\n",
    "          response = requests.get(url, headers=headers)\n",
    "          response.raise_for_status()  # Raises an HTTPError if the status is 4xx, 5xx\n",
    "          break\n",
    "        except (requests.ConnectionError, requests.HTTPError) as e:\n",
    "            print(f\"Attempt {attempt + 1} failed: {e}\")\n",
    "            time.sleep(5)  # Wait for 5 seconds before retrying\n",
    "    else:\n",
    "        print(\"Failed to retrieve the URL after several attempts.\")\n",
    "        return None\n",
    "\n",
    "    soup = BeautifulSoup(response.content, 'html.parser')\n",
    "    a_tags = soup.select('li a')\n",
    "    links_and_titles = [(a_tag.get('href'), a_tag.text.strip()) for a_tag in a_tags]\n",
    "    return links_and_titles\n",
    "\n",
    "\n",
    "def save_to_json(data, filename):\n",
    "    with open(filename, 'w', encoding='utf-8') as f:\n",
    "        json.dump(data, f, ensure_ascii=False, indent=4)\n",
    "\n",
    "url = 'https://my.ntu.edu.tw'\n",
    "links_and_titles = get_all_links_and_titles(url)\n",
    "if links_and_titles:\n",
    "    save_to_json(links_and_titles, 'list.json')\n",
    "    print(\"Data successfully saved to 'list.json'.\")\n",
    "else:\n",
    "    print(\"Failed to retrieve the links and titles.\")\n"
   ]
  },
  {
   "cell_type": "code",
   "execution_count": 7,
   "metadata": {},
   "outputs": [
    {
     "name": "stdout",
     "output_type": "stream",
     "text": [
      "[('Default.aspx?lang=eng', 'English'), ('login.aspx?actionType=Y', '常用服務'), ('https://www.ntu.edu.tw/contact.html', '聯絡我們'), ('https://ann.cc.ntu.edu.tw/', '最新消息'), ('https://www.ntu.edu.tw/', '臺大首頁'), ('https://www.cc.ntu.edu.tw/', '計中首頁'), ('#', '個人資訊 >'), ('#', '課務資訊 >'), ('#', '生活資訊 >'), ('#', '助學資訊 >'), ('#', '社團活動資訊 >'), ('#', '畢業生資訊 >'), ('https://ntucace.ntu.edu.tw/ ', '跨領域實習 - 臺灣引路人計畫'), ('http://coursemap.aca.ntu.edu.tw/course_map_all/', '臺大課程地圖'), ('https://course.ntu.edu.tw/', '臺大新課程網'), ('https://my.ntu.edu.tw/vote/', '教職員投票'), ('https://my.ntu.edu.tw/ntuhrEService/hrQuery/MeritPay.aspx?func=military', '教師彈性薪資查詢'), ('https://my.ntu.edu.tw/ntuhrEService/login.aspx?func=ecert', '專任教研人員電子聘書'), ('https://ifweb.aca.ntu.edu.tw/ScoreTrace/Index.aspx', '學生成績表現追蹤'), ('https://specom.aca.ntu.edu.tw/', '領域專長查詢系統'), ('https://ntuacare.ntu.edu.tw/', 'NTU aCARE學習預警暨輔導追蹤系統'), ('http://jade.lib.ntu.edu.tw/rapid_frontend/', 'JADE期刊文獻'), ('https://adfs.ntu.edu.tw/oc/', '著作原創性檢查服務'), ('https://my.ntu.edu.tw/pm/confirmWhoami.aspx', '研究計畫兼任助理學生專區'), ('https://mis.cc.ntu.edu.tw/tax/insure/list.asp', '保費證明'), ('https://my.ntu.edu.tw/acc/TripReport', '出國旅費E化結報系統'), ('https://my.ntu.edu.tw/shortTermNTuer/login.aspx', '短期人員經費管理系統-申請'), ('https://my.ntu.edu.tw/repairservice2/', '修繕申請'), ('https://my.ntu.edu.tw/confr/', '總務處會議室系統'), ('http://acs.cc.ntu.edu.tw/NTUAcs/_defaut.aspx', '門禁管理'), ('http://ntumail.cc.ntu.edu.tw/', 'NTU Mail 服務'), ('https://net4help.ntu.edu.tw/', '網路問題回報'), ('https://webpageprod.ntu.edu.tw/', '中英文網站製作平台'), ('https://my.ntu.edu.tw/ntuwdc/', '校園傳染病管制網'), ('https://my.ntu.edu.tw/actregister/Default.aspx', '活動報名'), ('https://my.ntu.edu.tw/alumnusJobManage/myntu/sale_myntu.aspx', '優惠專區'), ('https://my.ntu.edu.tw/questionnaire/Login.aspx', '滿意度問卷調查'), ('https://my.ntu.edu.tw/vote/', '教職員投票'), ('https://my.ntu.edu.tw/suggest/index.asp', '校務建言'), ('https://ifsel3.aca.ntu.edu.tw/hissco/index.asp', '成績與名次查詢'), ('https://my.ntu.edu.tw/attend2/', '到勤差假申請/簽核'), ('https://my.ntu.edu.tw/pm/confirmWhoami.aspx', '研究計畫兼任助理學生專區'), ('http://ntumail.cc.ntu.edu.tw/', 'NTU Mail 服務'), ('https://mis.cc.ntu.edu.tw/reg/', '學雜分費繳費及證明'), ('https://mis.cc.ntu.edu.tw/pay/Default.aspx', '付款查詢暨付款通知'), ('https://if163.aca.ntu.edu.tw/eportfolio/', 'ePo 學習歷程檔'), ('https://my.ntu.edu.tw/StudLeave/Login.aspx', '畢業生離校手續查詢'), ('https://if192.aca.ntu.edu.tw/', '網路選課1'), ('https://nol.ntu.edu.tw/nol/guest/index.php', '臺大課程網'), ('https://my.ntu.edu.tw/StuHireInfoQuery/index.html', '學生聘僱查詢系統'), ('https://ntucace.ntu.edu.tw/ ', '跨領域實習 - 臺灣引路人計畫'), ('https://net4help.ntu.edu.tw/', '網路問題回報'), ('https://course.ntu.edu.tw/', '臺大新課程網'), ('https://if190.aca.ntu.edu.tw/graderanking/index', '成績與名次查詢及探索學分申請'), ('https://if190.aca.ntu.edu.tw/StuInfo/StudentInfo/NTULogin', '學籍資料查詢及下載'), (' https://property.ntu.edu.tw/', '財物編號標籤申請及進度查詢'), ('https://internshipabroad.ntu.edu.tw/', '臺大國際引水人計畫'), ('https://my.ntu.edu.tw/acc/TripReport', '出國旅費E化結報系統'), ('https://my.ntu.edu.tw/cybersecurity', '資通盤點系統'), ('https://my.ntu.edu.tw/resignationProcess/studentResign/portal.aspx', '研究獎助生終止系統'), ('https://oiainternship.ntu.edu.tw/', '臺大國際引路人計畫'), ('https://studyabroadexpo.ntu.edu.tw', '海外教育博覽會'), ('https://studyabroad.ntu.edu.tw', '海外教育資訊網'), ('https://my.ntu.edu.tw/mattend/ssi.aspx', '帳號簽到退'), ('https://ndoc.ntu.edu.tw/ifdportal_ntu/', '公文系統'), ('https://specom.aca.ntu.edu.tw/', '領域專長查詢系統'), ('https://mis.cc.ntu.edu.tw/tax/rental/', '職務宿舍繳費證明'), ('https://ntuacare.ntu.edu.tw/', 'NTU aCARE學習預警暨輔導追蹤系統'), ('https://if177.aca.ntu.edu.tw/SelCou_Oschool/login.asp', '本校生校際選課系統'), ('https://cool.ntu.edu.tw', 'NTU COOL 數位教學平臺'), ('https://investea.aca.ntu.edu.tw/opinion/login.asp', '期末教學意見院長審閱及主管查詢'), ('https://www.aca.ntu.edu.tw/w/aca/calendar', '臺大行事曆'), ('https://ann.cc.ntu.edu.tw/', '校園公佈欄'), ('https://nol.ntu.edu.tw/nol/guest/index.php', '臺大課程網'), ('https://epaper.ntu.edu.tw/', '臺大電子報')]\n"
     ]
    }
   ],
   "source": [
    "print(links_and_titles)"
   ]
  },
  {
   "cell_type": "code",
   "execution_count": 8,
   "metadata": {},
   "outputs": [
    {
     "name": "stdout",
     "output_type": "stream",
     "text": [
      "An error occurred: Invalid URL 'Default.aspx?lang=eng': No scheme supplied. Perhaps you meant https://Default.aspx?lang=eng?\n",
      "An error occurred: Invalid URL 'login.aspx?actionType=Y': No scheme supplied. Perhaps you meant https://login.aspx?actionType=Y?\n",
      "HTML content successfully saved to 聯絡我們.html\n",
      "HTML content successfully saved to 最新消息.html\n",
      "HTML content successfully saved to 臺大首頁.html\n",
      "HTML content successfully saved to 計中首頁.html\n",
      "An error occurred: Invalid URL '#': No scheme supplied. Perhaps you meant https://#?\n",
      "An error occurred: Invalid URL '#': No scheme supplied. Perhaps you meant https://#?\n",
      "An error occurred: Invalid URL '#': No scheme supplied. Perhaps you meant https://#?\n",
      "An error occurred: Invalid URL '#': No scheme supplied. Perhaps you meant https://#?\n",
      "An error occurred: Invalid URL '#': No scheme supplied. Perhaps you meant https://#?\n",
      "An error occurred: Invalid URL '#': No scheme supplied. Perhaps you meant https://#?\n",
      "Failed to retrieve the page 跨領域實習 - 臺灣引路人計畫.html. Status code: 404\n",
      "HTML content successfully saved to 臺大課程地圖.html\n",
      "HTML content successfully saved to 臺大新課程網.html\n",
      "HTML content successfully saved to 教職員投票.html\n",
      "HTML content successfully saved to 教師彈性薪資查詢.html\n",
      "HTML content successfully saved to 專任教研人員電子聘書.html\n",
      "HTML content successfully saved to 學生成績表現追蹤.html\n",
      "HTML content successfully saved to 領域專長查詢系統.html\n",
      "An error occurred: HTTPSConnectionPool(host='ntuacare.ntu.edu.tw', port=443): Max retries exceeded with url: / (Caused by NewConnectionError('<urllib3.connection.HTTPSConnection object at 0x10c8ef760>: Failed to establish a new connection: [Errno 60] Operation timed out'))\n",
      "An error occurred: HTTPConnectionPool(host='jade.lib.ntu.edu.tw', port=80): Max retries exceeded with url: /rapid_frontend/ (Caused by NewConnectionError('<urllib3.connection.HTTPConnection object at 0x10cddcd60>: Failed to establish a new connection: [Errno 61] Connection refused'))\n",
      "HTML content successfully saved to 著作原創性檢查服務.html\n",
      "HTML content successfully saved to 研究計畫兼任助理學生專區.html\n",
      "HTML content successfully saved to 保費證明.html\n",
      "HTML content successfully saved to 出國旅費E化結報系統.html\n",
      "HTML content successfully saved to 短期人員經費管理系統-申請.html\n",
      "HTML content successfully saved to 修繕申請.html\n",
      "HTML content successfully saved to 總務處會議室系統.html\n",
      "HTML content successfully saved to 門禁管理.html\n",
      "HTML content successfully saved to NTU Mail 服務.html\n",
      "HTML content successfully saved to 網路問題回報.html\n",
      "HTML content successfully saved to 中英文網站製作平台.html\n",
      "HTML content successfully saved to 校園傳染病管制網.html\n",
      "HTML content successfully saved to 活動報名.html\n",
      "HTML content successfully saved to 優惠專區.html\n",
      "HTML content successfully saved to 滿意度問卷調查.html\n",
      "HTML content successfully saved to 教職員投票.html\n",
      "HTML content successfully saved to 校務建言.html\n",
      "HTML content successfully saved to 成績與名次查詢.html\n",
      "An error occurred: [Errno 2] No such file or directory: './html/到勤差假申請/簽核.html'\n",
      "HTML content successfully saved to 研究計畫兼任助理學生專區.html\n",
      "HTML content successfully saved to NTU Mail 服務.html\n",
      "HTML content successfully saved to 學雜分費繳費及證明.html\n",
      "HTML content successfully saved to 付款查詢暨付款通知.html\n",
      "HTML content successfully saved to ePo 學習歷程檔.html\n",
      "HTML content successfully saved to 畢業生離校手續查詢.html\n",
      "HTML content successfully saved to 網路選課1.html\n",
      "HTML content successfully saved to 臺大課程網.html\n",
      "HTML content successfully saved to 學生聘僱查詢系統.html\n",
      "Failed to retrieve the page 跨領域實習 - 臺灣引路人計畫.html. Status code: 404\n",
      "HTML content successfully saved to 網路問題回報.html\n",
      "HTML content successfully saved to 臺大新課程網.html\n",
      "HTML content successfully saved to 成績與名次查詢及探索學分申請.html\n",
      "HTML content successfully saved to 學籍資料查詢及下載.html\n",
      "HTML content successfully saved to 財物編號標籤申請及進度查詢.html\n",
      "HTML content successfully saved to 臺大國際引水人計畫.html\n",
      "HTML content successfully saved to 出國旅費E化結報系統.html\n",
      "HTML content successfully saved to 資通盤點系統.html\n",
      "HTML content successfully saved to 研究獎助生終止系統.html\n",
      "HTML content successfully saved to 臺大國際引路人計畫.html\n",
      "HTML content successfully saved to 海外教育博覽會.html\n",
      "HTML content successfully saved to 海外教育資訊網.html\n",
      "HTML content successfully saved to 帳號簽到退.html\n",
      "HTML content successfully saved to 公文系統.html\n",
      "HTML content successfully saved to 領域專長查詢系統.html\n",
      "HTML content successfully saved to 職務宿舍繳費證明.html\n",
      "An error occurred: HTTPSConnectionPool(host='ntuacare.ntu.edu.tw', port=443): Max retries exceeded with url: / (Caused by NewConnectionError('<urllib3.connection.HTTPSConnection object at 0x10cc55820>: Failed to establish a new connection: [Errno 60] Operation timed out'))\n",
      "HTML content successfully saved to 本校生校際選課系統.html\n",
      "HTML content successfully saved to NTU COOL 數位教學平臺.html\n",
      "HTML content successfully saved to 期末教學意見院長審閱及主管查詢.html\n",
      "HTML content successfully saved to 臺大行事曆.html\n",
      "HTML content successfully saved to 校園公佈欄.html\n",
      "HTML content successfully saved to 臺大課程網.html\n",
      "HTML content successfully saved to 臺大電子報.html\n"
     ]
    }
   ],
   "source": [
    "def scrape_and_save_html(url, file_name):\n",
    "    try:\n",
    "        # Send a GET request to the URL\n",
    "        response = requests.get(url, headers=headers)\n",
    "\n",
    "        # Check if the request was successful\n",
    "        if response.status_code == 200:\n",
    "            html_content = response.text\n",
    "\n",
    "            # Save the HTML content to a file\n",
    "            with open(\"./html/\"+file_name, 'w', encoding='utf-8') as file:\n",
    "                file.write(html_content)\n",
    "\n",
    "            print(f\"HTML content successfully saved to {file_name}\")\n",
    "        else:\n",
    "            print(f\"Failed to retrieve the page {file_name}. Status code: {response.status_code}\")\n",
    "\n",
    "    except Exception as e:\n",
    "        print(f\"An error occurred: {e}\")\n",
    "\n",
    "\n",
    "for (link, title) in links_and_titles:\n",
    "    try:\n",
    "        scrape_and_save_html(link, title + '.html')\n",
    "\n",
    "    except Exception as e:\n",
    "        print(f\"An error occurred at title {title}: {e}\")\n",
    "\n",
    "\n",
    "#url = 'https://my.ntu.edu.tw'\n",
    "#file_name = 'myntu.html'  # The name of the file to save the HTML content\n",
    "#scrape_and_save_html(url, file_name)\n"
   ]
  },
  {
   "cell_type": "code",
   "execution_count": 9,
   "metadata": {},
   "outputs": [
    {
     "name": "stdout",
     "output_type": "stream",
     "text": [
      "HTML content successfully saved to 跨領域實習-臺灣引路人計畫.html\n"
     ]
    }
   ],
   "source": [
    "scrape_and_save_html('https://ntucace.ntu.edu.tw', '跨領域實習-臺灣引路人計畫.html')"
   ]
  },
  {
   "cell_type": "code",
   "execution_count": 21,
   "metadata": {},
   "outputs": [
    {
     "name": "stdout",
     "output_type": "stream",
     "text": [
      "Collecting openai\n",
      "  Downloading openai-1.38.0-py3-none-any.whl.metadata (22 kB)\n",
      "Requirement already satisfied: anyio<5,>=3.5.0 in /opt/homebrew/anaconda3/envs/IRTM/lib/python3.9/site-packages (from openai) (4.3.0)\n",
      "Collecting distro<2,>=1.7.0 (from openai)\n",
      "  Downloading distro-1.9.0-py3-none-any.whl.metadata (6.8 kB)\n",
      "Requirement already satisfied: httpx<1,>=0.23.0 in /opt/homebrew/anaconda3/envs/IRTM/lib/python3.9/site-packages (from openai) (0.27.0)\n",
      "Collecting pydantic<3,>=1.9.0 (from openai)\n",
      "  Downloading pydantic-2.8.2-py3-none-any.whl.metadata (125 kB)\n",
      "\u001b[2K     \u001b[90m━━━━━━━━━━━━━━━━━━━━━━━━━━━━━━━━━━━━━\u001b[0m \u001b[32m125.2/125.2 kB\u001b[0m \u001b[31m721.5 kB/s\u001b[0m eta \u001b[36m0:00:00\u001b[0ma \u001b[36m0:00:01\u001b[0m\n",
      "\u001b[?25hRequirement already satisfied: sniffio in /opt/homebrew/anaconda3/envs/IRTM/lib/python3.9/site-packages (from openai) (1.3.1)\n",
      "Requirement already satisfied: tqdm>4 in /opt/homebrew/anaconda3/envs/IRTM/lib/python3.9/site-packages (from openai) (4.66.1)\n",
      "Requirement already satisfied: typing-extensions<5,>=4.7 in /opt/homebrew/anaconda3/envs/IRTM/lib/python3.9/site-packages (from openai) (4.8.0)\n",
      "Requirement already satisfied: idna>=2.8 in /opt/homebrew/anaconda3/envs/IRTM/lib/python3.9/site-packages (from anyio<5,>=3.5.0->openai) (3.4)\n",
      "Requirement already satisfied: exceptiongroup>=1.0.2 in /opt/homebrew/anaconda3/envs/IRTM/lib/python3.9/site-packages (from anyio<5,>=3.5.0->openai) (1.1.3)\n",
      "Requirement already satisfied: certifi in /opt/homebrew/anaconda3/envs/IRTM/lib/python3.9/site-packages (from httpx<1,>=0.23.0->openai) (2023.11.17)\n",
      "Requirement already satisfied: httpcore==1.* in /opt/homebrew/anaconda3/envs/IRTM/lib/python3.9/site-packages (from httpx<1,>=0.23.0->openai) (1.0.5)\n",
      "Requirement already satisfied: h11<0.15,>=0.13 in /opt/homebrew/anaconda3/envs/IRTM/lib/python3.9/site-packages (from httpcore==1.*->httpx<1,>=0.23.0->openai) (0.14.0)\n",
      "Collecting annotated-types>=0.4.0 (from pydantic<3,>=1.9.0->openai)\n",
      "  Downloading annotated_types-0.7.0-py3-none-any.whl.metadata (15 kB)\n",
      "Collecting pydantic-core==2.20.1 (from pydantic<3,>=1.9.0->openai)\n",
      "  Downloading pydantic_core-2.20.1-cp39-cp39-macosx_11_0_arm64.whl.metadata (6.6 kB)\n",
      "Downloading openai-1.38.0-py3-none-any.whl (335 kB)\n",
      "\u001b[2K   \u001b[90m━━━━━━━━━━━━━━━━━━━━━━━━━━━━━━━━━━━━━━━━\u001b[0m \u001b[32m335.9/335.9 kB\u001b[0m \u001b[31m4.1 MB/s\u001b[0m eta \u001b[36m0:00:00\u001b[0ma \u001b[36m0:00:01\u001b[0m\n",
      "\u001b[?25hDownloading distro-1.9.0-py3-none-any.whl (20 kB)\n",
      "Downloading pydantic-2.8.2-py3-none-any.whl (423 kB)\n",
      "\u001b[2K   \u001b[90m━━━━━━━━━━━━━━━━━━━━━━━━━━━━━━━━━━━━━━━━\u001b[0m \u001b[32m423.9/423.9 kB\u001b[0m \u001b[31m29.4 MB/s\u001b[0m eta \u001b[36m0:00:00\u001b[0m\n",
      "\u001b[?25hDownloading pydantic_core-2.20.1-cp39-cp39-macosx_11_0_arm64.whl (1.7 MB)\n",
      "\u001b[2K   \u001b[90m━━━━━━━━━━━━━━━━━━━━━━━━━━━━━━━━━━━━━━━━\u001b[0m \u001b[32m1.7/1.7 MB\u001b[0m \u001b[31m5.3 MB/s\u001b[0m eta \u001b[36m0:00:00\u001b[0m00:01\u001b[0m00:01\u001b[0m\n",
      "\u001b[?25hDownloading annotated_types-0.7.0-py3-none-any.whl (13 kB)\n",
      "Installing collected packages: pydantic-core, distro, annotated-types, pydantic, openai\n",
      "Successfully installed annotated-types-0.7.0 distro-1.9.0 openai-1.38.0 pydantic-2.8.2 pydantic-core-2.20.1\n"
     ]
    }
   ],
   "source": [
    "#!pip install openai"
   ]
  },
  {
   "cell_type": "code",
   "execution_count": 4,
   "metadata": {},
   "outputs": [
    {
     "name": "stdout",
     "output_type": "stream",
     "text": [
      "myNTU is the portal for National Taiwan University (NTU) users, requiring login with a Computing Center account. It provides various services, including personal information, course details, student activities, payment, and graduate information. Users can access NTU-specific systems, report network issues, and modify passwords for security. All content is legally protected.\n",
      "Summary:\n",
      "myNTU is the portal for National Taiwan University (NTU) users, requiring login with a Computing Center account. It provides various services, including personal information, course details, student activities, payment, and graduate information. Users can access NTU-specific systems, report network issues, and modify passwords for security. All content is legally protected.\n"
     ]
    }
   ],
   "source": [
    "from openai import OpenAI\n",
    "\n",
    "client = OpenAI(api_key=os.getenv('OPENAI_API_KEY'))\n",
    "MODEL=\"gpt-4o\"\n",
    "\n",
    "\n",
    "def extract_text_from_html(html_content):\n",
    "    \"\"\"Extract text from HTML content.\"\"\"\n",
    "    soup = BeautifulSoup(html_content, 'html.parser')\n",
    "    return soup.get_text()\n",
    "\n",
    "def get_summary_and_keywords(text):\n",
    "    #\"\"\"Get summary and keywords from text using OpenAI API.\"\"\"\n",
    "    #prompt_summary = f\"Please summarize the following text:\\n\\n{text}\"\n",
    "    #prompt_keywords = f\"Please extract keywords from the following text:\\n\\n{text}\"\n",
    "\n",
    "    ## Request for summary\n",
    "    #response_summary = openai.Completion.create(\n",
    "    #    engine=\"text-davinci-003\",\n",
    "    #    prompt=prompt_summary,\n",
    "    #    max_tokens=150\n",
    "    #)\n",
    "    #summary = response_summary.choices[0].text.strip()\n",
    "\n",
    "    ## Request for keywords\n",
    "    #response_keywords = openai.Completion.create(\n",
    "    #    engine=\"text-davinci-003\",\n",
    "    #    prompt=prompt_keywords,\n",
    "    #    max_tokens=50\n",
    "    #)\n",
    "    #keywords = response_keywords.choices[0].text.strip()\n",
    "\n",
    "    completion = client.chat.completions.create(\n",
    "      model=MODEL,\n",
    "      messages=[\n",
    "        {\"role\": \"user\", \"content\": \"Summarize this page in 50 words.\" + text}\n",
    "      ]\n",
    "    )\n",
    "\n",
    "    summary = completion.choices[0].message.content\n",
    "    print(summary)\n",
    "\n",
    "    return summary\n",
    "\n",
    "def process(filename):\n",
    "    # Read HTML file\n",
    "    with open(filename, 'r', encoding='utf-8') as file:\n",
    "        html_content = file.read()\n",
    "\n",
    "    # Extract text from HTML\n",
    "    text = extract_text_from_html(html_content)\n",
    "\n",
    "    # Get summary and keywords\n",
    "    summary = get_summary_and_keywords(text)\n",
    "\n",
    "    print(\"Summary:\")\n",
    "    print(summary)\n",
    "    #print(\"\\nKeywords:\")\n",
    "    #print(keywords)\n",
    "\n",
    "\n",
    "process('./html/myntu.html')"
   ]
  }
 ],
 "metadata": {
  "kernelspec": {
   "display_name": "IRTM",
   "language": "python",
   "name": "python3"
  },
  "language_info": {
   "codemirror_mode": {
    "name": "ipython",
    "version": 3
   },
   "file_extension": ".py",
   "mimetype": "text/x-python",
   "name": "python",
   "nbconvert_exporter": "python",
   "pygments_lexer": "ipython3",
   "version": "3.9.18"
  }
 },
 "nbformat": 4,
 "nbformat_minor": 2
}
